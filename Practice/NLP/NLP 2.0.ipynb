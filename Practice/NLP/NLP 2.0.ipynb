{
 "cells": [
  {
   "cell_type": "markdown",
   "metadata": {},
   "source": [
    "String of arrays"
   ]
  },
  {
   "cell_type": "code",
   "execution_count": 2,
   "metadata": {},
   "outputs": [
    {
     "name": "stdout",
     "output_type": "stream",
     "text": [
      "v\n"
     ]
    }
   ],
   "source": [
    "s = 'Shivam'\n",
    "print(s[3])"
   ]
  },
  {
   "cell_type": "markdown",
   "metadata": {},
   "source": [
    "Slicing"
   ]
  },
  {
   "cell_type": "code",
   "execution_count": 5,
   "metadata": {},
   "outputs": [
    {
     "name": "stdout",
     "output_type": "stream",
     "text": [
      "ivam Vis\n"
     ]
    }
   ],
   "source": [
    "a =\"Shivam Vishakarma\"\n",
    "\n",
    "# get a rage of values\n",
    "print(a[2:10])"
   ]
  },
  {
   "cell_type": "code",
   "execution_count": 7,
   "metadata": {},
   "outputs": [
    {
     "name": "stdout",
     "output_type": "stream",
     "text": [
      "ivam Vish\n"
     ]
    }
   ],
   "source": [
    "print(a[-15:-6])"
   ]
  },
  {
   "cell_type": "code",
   "execution_count": 8,
   "metadata": {},
   "outputs": [
    {
     "name": "stdout",
     "output_type": "stream",
     "text": [
      "ia ihkra\n"
     ]
    }
   ],
   "source": [
    "print(a[2::2])"
   ]
  },
  {
   "cell_type": "markdown",
   "metadata": {},
   "source": [
    "String Methods"
   ]
  },
  {
   "cell_type": "code",
   "execution_count": 9,
   "metadata": {},
   "outputs": [
    {
     "name": "stdout",
     "output_type": "stream",
     "text": [
      "shivam vishakarma\n"
     ]
    }
   ],
   "source": [
    "# printing lower case\n",
    "print(a.lower())"
   ]
  },
  {
   "cell_type": "code",
   "execution_count": 10,
   "metadata": {},
   "outputs": [
    {
     "name": "stdout",
     "output_type": "stream",
     "text": [
      "SHIVAM VISHAKARMA\n"
     ]
    }
   ],
   "source": [
    "# printing uppercase\n",
    "print(a.upper())"
   ]
  },
  {
   "cell_type": "code",
   "execution_count": 11,
   "metadata": {},
   "outputs": [
    {
     "name": "stdout",
     "output_type": "stream",
     "text": [
      "Shivom Vishokormo\n"
     ]
    }
   ],
   "source": [
    "# Replacing the letter\n",
    "print(a.replace('a', 'o'))"
   ]
  },
  {
   "cell_type": "code",
   "execution_count": 13,
   "metadata": {},
   "outputs": [
    {
     "name": "stdout",
     "output_type": "stream",
     "text": [
      "['Shiv', 'm Vish', 'k', 'rm', '']\n",
      "['Shivam', 'Vishakarma']\n"
     ]
    }
   ],
   "source": [
    "# spliting\n",
    "print(a.split('a'))\n",
    "print(a.split(\" \"))"
   ]
  },
  {
   "cell_type": "markdown",
   "metadata": {},
   "source": [
    "String Concatination"
   ]
  },
  {
   "cell_type": "code",
   "execution_count": 14,
   "metadata": {},
   "outputs": [
    {
     "name": "stdout",
     "output_type": "stream",
     "text": [
      "Shivam Vishwakarma\n"
     ]
    }
   ],
   "source": [
    "# Combing two string\n",
    "a = 'Shivam'\n",
    "b = 'Vishwakarma'\n",
    "print(a+\" \"+b)"
   ]
  },
  {
   "cell_type": "markdown",
   "metadata": {},
   "source": [
    "Opration on text files"
   ]
  },
  {
   "cell_type": "code",
   "execution_count": 22,
   "metadata": {},
   "outputs": [],
   "source": [
    "file = open(\"data.txt\", \"w+\")"
   ]
  },
  {
   "cell_type": "code",
   "execution_count": 23,
   "metadata": {},
   "outputs": [],
   "source": [
    "for i in range(10):\n",
    "    file.write(\"Shivam Vishwakarma is %d\\r\\n\" % (i+1))"
   ]
  },
  {
   "cell_type": "code",
   "execution_count": 24,
   "metadata": {},
   "outputs": [],
   "source": [
    "file.close()"
   ]
  },
  {
   "cell_type": "code",
   "execution_count": 27,
   "metadata": {},
   "outputs": [],
   "source": [
    "# appending data two file\n",
    "file = open('data.txt', 'a+')"
   ]
  },
  {
   "cell_type": "code",
   "execution_count": 28,
   "metadata": {},
   "outputs": [],
   "source": [
    "for i in range(3):\n",
    "    file.write(\"Shivam is great %d\\r\\n\" % (i + 1))"
   ]
  },
  {
   "cell_type": "code",
   "execution_count": 29,
   "metadata": {},
   "outputs": [],
   "source": [
    "file.close()"
   ]
  },
  {
   "cell_type": "markdown",
   "metadata": {},
   "source": [
    "Reading the files"
   ]
  },
  {
   "cell_type": "code",
   "execution_count": 30,
   "metadata": {},
   "outputs": [],
   "source": [
    "# reading the file\n",
    "file = open(\"data.txt\", \"r\")"
   ]
  },
  {
   "cell_type": "code",
   "execution_count": 31,
   "metadata": {},
   "outputs": [],
   "source": [
    "if file.mode == 'r':\n",
    "    content = file.read()\n"
   ]
  },
  {
   "cell_type": "code",
   "execution_count": 32,
   "metadata": {},
   "outputs": [
    {
     "name": "stdout",
     "output_type": "stream",
     "text": [
      "Shivam Vishwakarma is 1\n",
      "Shivam Vishwakarma is 2\n",
      "Shivam Vishwakarma is 3\n",
      "Shivam Vishwakarma is 4\n",
      "Shivam Vishwakarma is 5\n",
      "Shivam Vishwakarma is 6\n",
      "Shivam Vishwakarma is 7\n",
      "Shivam Vishwakarma is 8\n",
      "Shivam Vishwakarma is 9\n",
      "Shivam Vishwakarma is 10\n",
      "Shivam is great 1\n",
      "Shivam is great 2\n",
      "Shivam is great 3\n",
      "Shivam is great 1\n",
      "Shivam is great 2\n",
      "Shivam is great 3\n",
      "\n"
     ]
    }
   ],
   "source": [
    "print(content)"
   ]
  },
  {
   "cell_type": "markdown",
   "metadata": {},
   "source": [
    "### Text Preprocessing"
   ]
  },
  {
   "cell_type": "code",
   "execution_count": 1,
   "metadata": {},
   "outputs": [],
   "source": [
    "import nltk\n",
    "import string\n",
    "import re\n"
   ]
  },
  {
   "cell_type": "code",
   "execution_count": 33,
   "metadata": {},
   "outputs": [
    {
     "name": "stdout",
     "output_type": "stream",
     "text": [
      "shivam is the greatest boy on this planet\n"
     ]
    }
   ],
   "source": [
    "def to_lower(text):\n",
    "    return text.lower()\n",
    "\n",
    "input = \"ShiVam iS tHe gReaTest bOy oN tHis plaNet\"\n",
    "a = to_lower(input)\n",
    "\n",
    "print(a)"
   ]
  },
  {
   "cell_type": "code",
   "execution_count": 34,
   "metadata": {},
   "outputs": [
    {
     "name": "stdout",
     "output_type": "stream",
     "text": [
      "SHIVAM IS THE GREATEST BOY ON THIS PLANET\n"
     ]
    }
   ],
   "source": [
    "def to_upper(text):\n",
    "    return text.upper()\n",
    "\n",
    "print(to_upper(input))"
   ]
  },
  {
   "cell_type": "code",
   "execution_count": 37,
   "metadata": {},
   "outputs": [],
   "source": [
    "def remove_num(text):\n",
    "    result = re.sub(r'\\d+',\"\",text)\n",
    "    return result"
   ]
  },
  {
   "cell_type": "code",
   "execution_count": 56,
   "metadata": {},
   "outputs": [
    {
     "data": {
      "text/plain": [
       "'shivam got  out of  '"
      ]
     },
     "execution_count": 56,
     "metadata": {},
     "output_type": "execute_result"
    }
   ],
   "source": [
    "input = \"shivam got 100 out of 100 \"\n",
    "remove_num(input)"
   ]
  },
  {
   "cell_type": "code",
   "execution_count": 55,
   "metadata": {},
   "outputs": [
    {
     "name": "stdout",
     "output_type": "stream",
     "text": [
      "I have two apples and three oranges.\n"
     ]
    }
   ],
   "source": [
    "import inflect\n",
    "\n",
    "def num_to_word(text):\n",
    "    # Create an inflect engine instance\n",
    "    p = inflect.engine()\n",
    "\n",
    "    # Splitting the word\n",
    "    split_text = text.split()\n",
    "\n",
    "    # Initializing the empty list\n",
    "    str_list = []\n",
    "\n",
    "    # Adding words to the list\n",
    "    for i in split_text:\n",
    "        if i.isdigit():\n",
    "            str_list.append(p.number_to_words(i))\n",
    "        else:\n",
    "            str_list.append(i)\n",
    "\n",
    "    result = ' '.join(str_list)\n",
    "\n",
    "    return result\n",
    "\n",
    "# Example usage\n",
    "input_text = \"I have 2 apples and 3 oranges.\"\n",
    "print(num_to_word(input_text))\n"
   ]
  },
  {
   "cell_type": "markdown",
   "metadata": {},
   "source": [
    "### Remove punctuation."
   ]
  },
  {
   "cell_type": "code",
   "execution_count": 8,
   "metadata": {},
   "outputs": [],
   "source": [
    "# defing a function to remove the punctuations\n",
    "import string\n",
    "\n",
    "def remove_punctuation(text):\n",
    "    translator = str.maketrans('', '', string.punctuation)\n",
    "    return text.translate(translator)"
   ]
  },
  {
   "cell_type": "code",
   "execution_count": 9,
   "metadata": {},
   "outputs": [
    {
     "data": {
      "text/plain": [
       "'shivam is 100 the great boy  you all know  that naa  '"
      ]
     },
     "execution_count": 9,
     "metadata": {},
     "output_type": "execute_result"
    }
   ],
   "source": [
    "input = 'shivam is 100% the great boy ?? you all know !! that naa \\\\\\\\\\ '\n",
    "remove_punctuation(input)"
   ]
  }
 ],
 "metadata": {
  "kernelspec": {
   "display_name": "minienv",
   "language": "python",
   "name": "minienv"
  },
  "language_info": {
   "codemirror_mode": {
    "name": "ipython",
    "version": 3
   },
   "file_extension": ".py",
   "mimetype": "text/x-python",
   "name": "python",
   "nbconvert_exporter": "python",
   "pygments_lexer": "ipython3",
   "version": "3.9.18"
  }
 },
 "nbformat": 4,
 "nbformat_minor": 2
}
